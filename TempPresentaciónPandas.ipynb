{
  "nbformat": 4,
  "nbformat_minor": 0,
  "metadata": {
    "colab": {
      "provenance": [],
      "include_colab_link": true
    },
    "kernelspec": {
      "name": "python3",
      "display_name": "Python 3"
    },
    "language_info": {
      "name": "python"
    }
  },
  "cells": [
    {
      "cell_type": "markdown",
      "metadata": {
        "id": "view-in-github",
        "colab_type": "text"
      },
      "source": [
        "<a href=\"https://colab.research.google.com/github/MartinUlima99/Pandas/blob/main/TempPresentaci%C3%B3nPandas.ipynb\" target=\"_parent\"><img src=\"https://colab.research.google.com/assets/colab-badge.svg\" alt=\"Open In Colab\"/></a>"
      ]
    },
    {
      "cell_type": "markdown",
      "source": [
        "**Importar arhivos**"
      ],
      "metadata": {
        "id": "JXQpK8T1rLAC"
      }
    },
    {
      "cell_type": "code",
      "source": [
        "#Importar libreria\n",
        "import pandas as pd"
      ],
      "metadata": {
        "id": "SlO83bnMHn37"
      },
      "execution_count": null,
      "outputs": []
    },
    {
      "cell_type": "code",
      "source": [
        "#importar CSV\n",
        "df = pd.read_csv(\"/content/pokemon_data.csv\")\n",
        "df.head(5)"
      ],
      "metadata": {
        "id": "RHZ1Lo96rIGj"
      },
      "execution_count": null,
      "outputs": []
    },
    {
      "cell_type": "code",
      "source": [
        "#importar EXCEL\n",
        "df = pd.read_excel(\"/content/pokemon_data.xlsx\")\n",
        "df.tail(5)"
      ],
      "metadata": {
        "id": "uf_64HwgrPoN"
      },
      "execution_count": null,
      "outputs": []
    },
    {
      "cell_type": "code",
      "source": [
        "#importar SQL\n",
        "import sqlite3\n",
        "conexion = sqlite3.connect(\"ejemplo.db\")\n",
        "query = \"select * from table1 where...\"\n",
        "df = pd.read_sql(query,conexion)\n",
        "df\n"
      ],
      "metadata": {
        "id": "1BLX3G0irhau"
      },
      "execution_count": null,
      "outputs": []
    },
    {
      "cell_type": "code",
      "source": [
        "#importar Json\n",
        "df = pd.read_json(\"/content/Famous_Words_Twitter_Dataset.json\",encoding='utf-8', lines=True)\n",
        "df"
      ],
      "metadata": {
        "id": "7tZDnoeFrjZu"
      },
      "execution_count": null,
      "outputs": []
    },
    {
      "cell_type": "code",
      "source": [
        "#importar html table\n",
        "#https://en.wikipedia.org/wiki/South_America\n",
        "url = \"https://en.wikipedia.org/wiki/South_America\"\n",
        "df = pd.read_html(url,match = 'Flag')\n",
        "type(df)\n",
        "#len(df)\n",
        "df[0]"
      ],
      "metadata": {
        "id": "Ygur2VNSi-9t"
      },
      "execution_count": null,
      "outputs": []
    },
    {
      "cell_type": "markdown",
      "source": [
        "**DATAFRAME**"
      ],
      "metadata": {
        "id": "P4Ep-eWKrojd"
      }
    },
    {
      "cell_type": "code",
      "source": [
        "# Crear un DataFrame\n",
        "data = {'Nombre':   ['Juan', 'María', 'Pedro', 'Ana','Matias','Jack'],\n",
        "        'Edad': [30, 25, 40, 35,50,90],\n",
        "        'Altura': [1.75, 1.60, 1.80, 1.65,1.80,1.95],\n",
        "        'Peso' : [78,65,80,65,83,100],\n",
        "        'Ciudad': ['Madrid', 'Barcelona', 'Sevilla', 'Valencia','Madrid','Sevilla'],\n",
        "        'Género': ['Masculino', 'Femenino', 'Masculino', 'Femenino', 'Masculino','Masculino'],\n",
        "        'Profesión': ['Ingeniero', 'Doctor', 'Abogado', 'Ingeniero', 'Abogado','Doctor'],\n",
        "        'Salario': [3000, 5000, 4000, 3500, 4500,6000],\n",
        "        'Años experiencia': [3, 5, 4, 7, 6,9],\n",
        "        'Ventas' : [100,900,500,650,1300,350],\n",
        "        'Año' : [2022,2023,2023,2022,2022,2023]}\n",
        "df = pd.DataFrame(data)\n",
        "df"
      ],
      "metadata": {
        "id": "swiE690VHHp_"
      },
      "execution_count": null,
      "outputs": []
    },
    {
      "cell_type": "markdown",
      "source": [
        "**Manipulación de columnas y filas**"
      ],
      "metadata": {
        "id": "_B0B7qu1Hp7b"
      }
    },
    {
      "cell_type": "code",
      "source": [
        "# Cambiar el nombre de la columna 'Ciudad' a 'Localidad'\n",
        "df.rename(columns={'Ciudad':'Localidad'},inplace = True)\n",
        "df"
      ],
      "metadata": {
        "id": "AVlhwkk2HKbK"
      },
      "execution_count": null,
      "outputs": []
    },
    {
      "cell_type": "code",
      "source": [
        "# Seleccionar solo las filas de las personas mayores de 30 años\n",
        "mayores = df[df['Edad'] > 30]\n",
        "mayores"
      ],
      "metadata": {
        "id": "8ekq7UcFHMrr"
      },
      "execution_count": null,
      "outputs": []
    },
    {
      "cell_type": "code",
      "source": [
        "#Cambiar valor en específico de alguna Fila\n",
        "df.loc[df['Nombre'] == 'Juan','Nombre'] = \"JuanValdes\"\n",
        "#df.at[3,'Nombre'] = \"JuanValdes\"\n",
        "#df.replace({'María': 'MariaR'}, inplace=True)#El\n",
        "\n",
        "df"
      ],
      "metadata": {
        "id": "FSKrJe3qHQte"
      },
      "execution_count": null,
      "outputs": []
    },
    {
      "cell_type": "code",
      "source": [
        "# Agregar una columna calculando el índice de masa corporal (IMC) de cada persona\n",
        "df['IMC'] = (df['Peso'] / (df['Altura'] ** 2))\n",
        "df\n"
      ],
      "metadata": {
        "id": "d3i-wLg2HWVH"
      },
      "execution_count": null,
      "outputs": []
    },
    {
      "cell_type": "code",
      "source": [
        "# Seleccionar solo las filas de las personas con IMC mayor a 25 (sobrepeso)\n",
        "sobrepeso = df[df['IMC'] > 25]\n",
        "sobrepeso"
      ],
      "metadata": {
        "id": "NTONywHiHZic"
      },
      "execution_count": null,
      "outputs": []
    },
    {
      "cell_type": "code",
      "source": [
        "# Eliminar una columna\n",
        "df.drop('IMC', axis=1, inplace=True)\n",
        "df"
      ],
      "metadata": {
        "id": "AcB8pgVkHeEa"
      },
      "execution_count": null,
      "outputs": []
    },
    {
      "cell_type": "code",
      "source": [
        "# Ordenar el DataFrame por nombre\n",
        "sort = df.sort_values('Nombre')\n",
        "sort"
      ],
      "metadata": {
        "id": "ckXagFyuHl8_"
      },
      "execution_count": null,
      "outputs": []
    },
    {
      "cell_type": "markdown",
      "source": [
        "**Seleccionar de datos en un DataFrame:**"
      ],
      "metadata": {
        "id": "pq4aBgFDPn1c"
      }
    },
    {
      "cell_type": "code",
      "source": [
        "# Selección de todas las filas y columnas\n",
        "df_all = df.iloc[::]\n",
        "df_all"
      ],
      "metadata": {
        "id": "FFVo6blJHmDQ"
      },
      "execution_count": null,
      "outputs": []
    },
    {
      "cell_type": "code",
      "source": [
        "# Seleccionar filas y columnas específicas\n",
        "#specific = df.loc[1:3, [\"Nombre\", \"Edad\"]]\n",
        "specific = df.iloc[1:4, [0,1, 5]]\n",
        "\n",
        "specific\n"
      ],
      "metadata": {
        "id": "s1A1Kt0kPvQD"
      },
      "execution_count": null,
      "outputs": []
    },
    {
      "cell_type": "code",
      "source": [
        "#Iterar cierta parte del dataframe\n",
        "temp = df.iloc[0:2]\n",
        "temp\n"
      ],
      "metadata": {
        "id": "_GiyrQtVS2Hr"
      },
      "execution_count": null,
      "outputs": []
    },
    {
      "cell_type": "code",
      "source": [
        "# Selección de filas con un columnas en específico\n",
        "df_cols = df[['Nombre', 'Altura','Edad']]\n",
        "df_cols"
      ],
      "metadata": {
        "id": "zPRyMjVkQ0M-"
      },
      "execution_count": null,
      "outputs": []
    },
    {
      "cell_type": "markdown",
      "source": [
        "**Filtrado de datos**"
      ],
      "metadata": {
        "id": "eQNNhlJzKHOF"
      }
    },
    {
      "cell_type": "code",
      "source": [
        "#Filtrar por una columna en específico:\n",
        "#df.loc[len(df)] = [\"Maximo\",60,1.83,85,\"Roma\",\"Masculino\",\"Arquitecto\",6500, 15,1450]\n",
        "#eliminate a row\n",
        "#df.drop(7,inplace=True)\n",
        "filtro_ciudad = df[df['Ciudad'] == \"Roma\"]\n",
        "#df\n",
        "filtro_ciudad\n",
        "#df_filter"
      ],
      "metadata": {
        "id": "QR7q0YQNKHmQ"
      },
      "execution_count": null,
      "outputs": []
    },
    {
      "cell_type": "code",
      "source": [
        "df"
      ],
      "metadata": {
        "id": "wPs6FWHA3Qdd"
      },
      "execution_count": null,
      "outputs": []
    },
    {
      "cell_type": "code",
      "source": [
        "#Filtrar utilizando múltiples condiciones:\n",
        "filtro_or = df[ (df['Altura'] > 1.80) | (df['Altura'] < 1.70)]\n",
        "#filtro_or\n",
        "#con \"and\"\n",
        "filtrado_and = df[(df['Género'] == 'Femenino') & (df['Edad'] >= 30)]\n",
        "#filtrado_and\n",
        "nombres = ['Juan','Ana']\n",
        "filtro_is = df[df['Nombre'].isin(nombres) ]\n",
        "filtro_is\n",
        "#df['Altura'] = df['Altura'].astype(float)\n",
        "\n"
      ],
      "metadata": {
        "id": "DZEFQxl4KMpA",
        "colab": {
          "base_uri": "https://localhost:8080/",
          "height": 112
        },
        "outputId": "0a5818dd-ce28-4c77-d4b8-f43c00e91a12"
      },
      "execution_count": null,
      "outputs": [
        {
          "output_type": "execute_result",
          "data": {
            "text/plain": [
              "  Nombre  Edad  Altura  Peso    Ciudad     Género  Profesión  Salario  \\\n",
              "0   Juan    30    1.75    78    Madrid  Masculino  Ingeniero     3000   \n",
              "3    Ana    35    1.65    65  Valencia   Femenino  Ingeniero     3500   \n",
              "\n",
              "   Años experiencia  \n",
              "0                 3  \n",
              "3                 7  "
            ],
            "text/html": [
              "\n",
              "  <div id=\"df-a856ad82-c172-403a-ba0b-1a406259dc4e\">\n",
              "    <div class=\"colab-df-container\">\n",
              "      <div>\n",
              "<style scoped>\n",
              "    .dataframe tbody tr th:only-of-type {\n",
              "        vertical-align: middle;\n",
              "    }\n",
              "\n",
              "    .dataframe tbody tr th {\n",
              "        vertical-align: top;\n",
              "    }\n",
              "\n",
              "    .dataframe thead th {\n",
              "        text-align: right;\n",
              "    }\n",
              "</style>\n",
              "<table border=\"1\" class=\"dataframe\">\n",
              "  <thead>\n",
              "    <tr style=\"text-align: right;\">\n",
              "      <th></th>\n",
              "      <th>Nombre</th>\n",
              "      <th>Edad</th>\n",
              "      <th>Altura</th>\n",
              "      <th>Peso</th>\n",
              "      <th>Ciudad</th>\n",
              "      <th>Género</th>\n",
              "      <th>Profesión</th>\n",
              "      <th>Salario</th>\n",
              "      <th>Años experiencia</th>\n",
              "    </tr>\n",
              "  </thead>\n",
              "  <tbody>\n",
              "    <tr>\n",
              "      <th>0</th>\n",
              "      <td>Juan</td>\n",
              "      <td>30</td>\n",
              "      <td>1.75</td>\n",
              "      <td>78</td>\n",
              "      <td>Madrid</td>\n",
              "      <td>Masculino</td>\n",
              "      <td>Ingeniero</td>\n",
              "      <td>3000</td>\n",
              "      <td>3</td>\n",
              "    </tr>\n",
              "    <tr>\n",
              "      <th>3</th>\n",
              "      <td>Ana</td>\n",
              "      <td>35</td>\n",
              "      <td>1.65</td>\n",
              "      <td>65</td>\n",
              "      <td>Valencia</td>\n",
              "      <td>Femenino</td>\n",
              "      <td>Ingeniero</td>\n",
              "      <td>3500</td>\n",
              "      <td>7</td>\n",
              "    </tr>\n",
              "  </tbody>\n",
              "</table>\n",
              "</div>\n",
              "      <button class=\"colab-df-convert\" onclick=\"convertToInteractive('df-a856ad82-c172-403a-ba0b-1a406259dc4e')\"\n",
              "              title=\"Convert this dataframe to an interactive table.\"\n",
              "              style=\"display:none;\">\n",
              "        \n",
              "  <svg xmlns=\"http://www.w3.org/2000/svg\" height=\"24px\"viewBox=\"0 0 24 24\"\n",
              "       width=\"24px\">\n",
              "    <path d=\"M0 0h24v24H0V0z\" fill=\"none\"/>\n",
              "    <path d=\"M18.56 5.44l.94 2.06.94-2.06 2.06-.94-2.06-.94-.94-2.06-.94 2.06-2.06.94zm-11 1L8.5 8.5l.94-2.06 2.06-.94-2.06-.94L8.5 2.5l-.94 2.06-2.06.94zm10 10l.94 2.06.94-2.06 2.06-.94-2.06-.94-.94-2.06-.94 2.06-2.06.94z\"/><path d=\"M17.41 7.96l-1.37-1.37c-.4-.4-.92-.59-1.43-.59-.52 0-1.04.2-1.43.59L10.3 9.45l-7.72 7.72c-.78.78-.78 2.05 0 2.83L4 21.41c.39.39.9.59 1.41.59.51 0 1.02-.2 1.41-.59l7.78-7.78 2.81-2.81c.8-.78.8-2.07 0-2.86zM5.41 20L4 18.59l7.72-7.72 1.47 1.35L5.41 20z\"/>\n",
              "  </svg>\n",
              "      </button>\n",
              "      \n",
              "  <style>\n",
              "    .colab-df-container {\n",
              "      display:flex;\n",
              "      flex-wrap:wrap;\n",
              "      gap: 12px;\n",
              "    }\n",
              "\n",
              "    .colab-df-convert {\n",
              "      background-color: #E8F0FE;\n",
              "      border: none;\n",
              "      border-radius: 50%;\n",
              "      cursor: pointer;\n",
              "      display: none;\n",
              "      fill: #1967D2;\n",
              "      height: 32px;\n",
              "      padding: 0 0 0 0;\n",
              "      width: 32px;\n",
              "    }\n",
              "\n",
              "    .colab-df-convert:hover {\n",
              "      background-color: #E2EBFA;\n",
              "      box-shadow: 0px 1px 2px rgba(60, 64, 67, 0.3), 0px 1px 3px 1px rgba(60, 64, 67, 0.15);\n",
              "      fill: #174EA6;\n",
              "    }\n",
              "\n",
              "    [theme=dark] .colab-df-convert {\n",
              "      background-color: #3B4455;\n",
              "      fill: #D2E3FC;\n",
              "    }\n",
              "\n",
              "    [theme=dark] .colab-df-convert:hover {\n",
              "      background-color: #434B5C;\n",
              "      box-shadow: 0px 1px 3px 1px rgba(0, 0, 0, 0.15);\n",
              "      filter: drop-shadow(0px 1px 2px rgba(0, 0, 0, 0.3));\n",
              "      fill: #FFFFFF;\n",
              "    }\n",
              "  </style>\n",
              "\n",
              "      <script>\n",
              "        const buttonEl =\n",
              "          document.querySelector('#df-a856ad82-c172-403a-ba0b-1a406259dc4e button.colab-df-convert');\n",
              "        buttonEl.style.display =\n",
              "          google.colab.kernel.accessAllowed ? 'block' : 'none';\n",
              "\n",
              "        async function convertToInteractive(key) {\n",
              "          const element = document.querySelector('#df-a856ad82-c172-403a-ba0b-1a406259dc4e');\n",
              "          const dataTable =\n",
              "            await google.colab.kernel.invokeFunction('convertToInteractive',\n",
              "                                                     [key], {});\n",
              "          if (!dataTable) return;\n",
              "\n",
              "          const docLinkHtml = 'Like what you see? Visit the ' +\n",
              "            '<a target=\"_blank\" href=https://colab.research.google.com/notebooks/data_table.ipynb>data table notebook</a>'\n",
              "            + ' to learn more about interactive tables.';\n",
              "          element.innerHTML = '';\n",
              "          dataTable['output_type'] = 'display_data';\n",
              "          await google.colab.output.renderOutput(dataTable, element);\n",
              "          const docLink = document.createElement('div');\n",
              "          docLink.innerHTML = docLinkHtml;\n",
              "          element.appendChild(docLink);\n",
              "        }\n",
              "      </script>\n",
              "    </div>\n",
              "  </div>\n",
              "  "
            ]
          },
          "metadata": {},
          "execution_count": 80
        }
      ]
    },
    {
      "cell_type": "code",
      "source": [
        "##Filtrar utilizando expresiones regulares:\n",
        "import re\n",
        "filtro_regex = df[df['Nombre'].str.contains(r'^M.+')]\n",
        "filtro_regex"
      ],
      "metadata": {
        "id": "l0zsuvd5KQ30",
        "colab": {
          "base_uri": "https://localhost:8080/",
          "height": 112
        },
        "outputId": "86d83ea6-45c7-4efc-fb6a-cd6a0c1e670a"
      },
      "execution_count": null,
      "outputs": [
        {
          "output_type": "execute_result",
          "data": {
            "text/plain": [
              "   Nombre  Edad  Altura  Peso     Ciudad     Género Profesión  Salario  \\\n",
              "1   María    25     1.6    65  Barcelona   Femenino    Doctor     5000   \n",
              "4  Matias    50     1.8    83     Madrid  Masculino   Abogado     4500   \n",
              "\n",
              "   Años experiencia  \n",
              "1                 5  \n",
              "4                 6  "
            ],
            "text/html": [
              "\n",
              "  <div id=\"df-20b7f899-51df-49e5-965e-3b8cc4acfb2f\">\n",
              "    <div class=\"colab-df-container\">\n",
              "      <div>\n",
              "<style scoped>\n",
              "    .dataframe tbody tr th:only-of-type {\n",
              "        vertical-align: middle;\n",
              "    }\n",
              "\n",
              "    .dataframe tbody tr th {\n",
              "        vertical-align: top;\n",
              "    }\n",
              "\n",
              "    .dataframe thead th {\n",
              "        text-align: right;\n",
              "    }\n",
              "</style>\n",
              "<table border=\"1\" class=\"dataframe\">\n",
              "  <thead>\n",
              "    <tr style=\"text-align: right;\">\n",
              "      <th></th>\n",
              "      <th>Nombre</th>\n",
              "      <th>Edad</th>\n",
              "      <th>Altura</th>\n",
              "      <th>Peso</th>\n",
              "      <th>Ciudad</th>\n",
              "      <th>Género</th>\n",
              "      <th>Profesión</th>\n",
              "      <th>Salario</th>\n",
              "      <th>Años experiencia</th>\n",
              "    </tr>\n",
              "  </thead>\n",
              "  <tbody>\n",
              "    <tr>\n",
              "      <th>1</th>\n",
              "      <td>María</td>\n",
              "      <td>25</td>\n",
              "      <td>1.6</td>\n",
              "      <td>65</td>\n",
              "      <td>Barcelona</td>\n",
              "      <td>Femenino</td>\n",
              "      <td>Doctor</td>\n",
              "      <td>5000</td>\n",
              "      <td>5</td>\n",
              "    </tr>\n",
              "    <tr>\n",
              "      <th>4</th>\n",
              "      <td>Matias</td>\n",
              "      <td>50</td>\n",
              "      <td>1.8</td>\n",
              "      <td>83</td>\n",
              "      <td>Madrid</td>\n",
              "      <td>Masculino</td>\n",
              "      <td>Abogado</td>\n",
              "      <td>4500</td>\n",
              "      <td>6</td>\n",
              "    </tr>\n",
              "  </tbody>\n",
              "</table>\n",
              "</div>\n",
              "      <button class=\"colab-df-convert\" onclick=\"convertToInteractive('df-20b7f899-51df-49e5-965e-3b8cc4acfb2f')\"\n",
              "              title=\"Convert this dataframe to an interactive table.\"\n",
              "              style=\"display:none;\">\n",
              "        \n",
              "  <svg xmlns=\"http://www.w3.org/2000/svg\" height=\"24px\"viewBox=\"0 0 24 24\"\n",
              "       width=\"24px\">\n",
              "    <path d=\"M0 0h24v24H0V0z\" fill=\"none\"/>\n",
              "    <path d=\"M18.56 5.44l.94 2.06.94-2.06 2.06-.94-2.06-.94-.94-2.06-.94 2.06-2.06.94zm-11 1L8.5 8.5l.94-2.06 2.06-.94-2.06-.94L8.5 2.5l-.94 2.06-2.06.94zm10 10l.94 2.06.94-2.06 2.06-.94-2.06-.94-.94-2.06-.94 2.06-2.06.94z\"/><path d=\"M17.41 7.96l-1.37-1.37c-.4-.4-.92-.59-1.43-.59-.52 0-1.04.2-1.43.59L10.3 9.45l-7.72 7.72c-.78.78-.78 2.05 0 2.83L4 21.41c.39.39.9.59 1.41.59.51 0 1.02-.2 1.41-.59l7.78-7.78 2.81-2.81c.8-.78.8-2.07 0-2.86zM5.41 20L4 18.59l7.72-7.72 1.47 1.35L5.41 20z\"/>\n",
              "  </svg>\n",
              "      </button>\n",
              "      \n",
              "  <style>\n",
              "    .colab-df-container {\n",
              "      display:flex;\n",
              "      flex-wrap:wrap;\n",
              "      gap: 12px;\n",
              "    }\n",
              "\n",
              "    .colab-df-convert {\n",
              "      background-color: #E8F0FE;\n",
              "      border: none;\n",
              "      border-radius: 50%;\n",
              "      cursor: pointer;\n",
              "      display: none;\n",
              "      fill: #1967D2;\n",
              "      height: 32px;\n",
              "      padding: 0 0 0 0;\n",
              "      width: 32px;\n",
              "    }\n",
              "\n",
              "    .colab-df-convert:hover {\n",
              "      background-color: #E2EBFA;\n",
              "      box-shadow: 0px 1px 2px rgba(60, 64, 67, 0.3), 0px 1px 3px 1px rgba(60, 64, 67, 0.15);\n",
              "      fill: #174EA6;\n",
              "    }\n",
              "\n",
              "    [theme=dark] .colab-df-convert {\n",
              "      background-color: #3B4455;\n",
              "      fill: #D2E3FC;\n",
              "    }\n",
              "\n",
              "    [theme=dark] .colab-df-convert:hover {\n",
              "      background-color: #434B5C;\n",
              "      box-shadow: 0px 1px 3px 1px rgba(0, 0, 0, 0.15);\n",
              "      filter: drop-shadow(0px 1px 2px rgba(0, 0, 0, 0.3));\n",
              "      fill: #FFFFFF;\n",
              "    }\n",
              "  </style>\n",
              "\n",
              "      <script>\n",
              "        const buttonEl =\n",
              "          document.querySelector('#df-20b7f899-51df-49e5-965e-3b8cc4acfb2f button.colab-df-convert');\n",
              "        buttonEl.style.display =\n",
              "          google.colab.kernel.accessAllowed ? 'block' : 'none';\n",
              "\n",
              "        async function convertToInteractive(key) {\n",
              "          const element = document.querySelector('#df-20b7f899-51df-49e5-965e-3b8cc4acfb2f');\n",
              "          const dataTable =\n",
              "            await google.colab.kernel.invokeFunction('convertToInteractive',\n",
              "                                                     [key], {});\n",
              "          if (!dataTable) return;\n",
              "\n",
              "          const docLinkHtml = 'Like what you see? Visit the ' +\n",
              "            '<a target=\"_blank\" href=https://colab.research.google.com/notebooks/data_table.ipynb>data table notebook</a>'\n",
              "            + ' to learn more about interactive tables.';\n",
              "          element.innerHTML = '';\n",
              "          dataTable['output_type'] = 'display_data';\n",
              "          await google.colab.output.renderOutput(dataTable, element);\n",
              "          const docLink = document.createElement('div');\n",
              "          docLink.innerHTML = docLinkHtml;\n",
              "          element.appendChild(docLink);\n",
              "        }\n",
              "      </script>\n",
              "    </div>\n",
              "  </div>\n",
              "  "
            ]
          },
          "metadata": {},
          "execution_count": 81
        }
      ]
    },
    {
      "cell_type": "code",
      "source": [
        "#Filtrar utilizando la función query():\n",
        "df['Edad'] = df['Edad'].astype(int)\n",
        "filtrado_query = df.query('Edad > 30')\n",
        "filtrado_query"
      ],
      "metadata": {
        "id": "zd6FBDCcKTot",
        "colab": {
          "base_uri": "https://localhost:8080/",
          "height": 175
        },
        "outputId": "c2b02545-237d-48d7-e567-eff455f300dd"
      },
      "execution_count": null,
      "outputs": [
        {
          "output_type": "execute_result",
          "data": {
            "text/plain": [
              "   Nombre  Edad  Altura  Peso    Ciudad     Género  Profesión  Salario  \\\n",
              "2   Pedro    40    1.80    80   Sevilla  Masculino    Abogado     4000   \n",
              "3     Ana    35    1.65    65  Valencia   Femenino  Ingeniero     3500   \n",
              "4  Matias    50    1.80    83    Madrid  Masculino    Abogado     4500   \n",
              "5    Jack    90    1.95   100   Sevilla  Masculino     Doctor     6000   \n",
              "\n",
              "   Años experiencia  \n",
              "2                 4  \n",
              "3                 7  \n",
              "4                 6  \n",
              "5                 9  "
            ],
            "text/html": [
              "\n",
              "  <div id=\"df-6ad0c95b-d050-4e88-9eba-758780b1cdd7\">\n",
              "    <div class=\"colab-df-container\">\n",
              "      <div>\n",
              "<style scoped>\n",
              "    .dataframe tbody tr th:only-of-type {\n",
              "        vertical-align: middle;\n",
              "    }\n",
              "\n",
              "    .dataframe tbody tr th {\n",
              "        vertical-align: top;\n",
              "    }\n",
              "\n",
              "    .dataframe thead th {\n",
              "        text-align: right;\n",
              "    }\n",
              "</style>\n",
              "<table border=\"1\" class=\"dataframe\">\n",
              "  <thead>\n",
              "    <tr style=\"text-align: right;\">\n",
              "      <th></th>\n",
              "      <th>Nombre</th>\n",
              "      <th>Edad</th>\n",
              "      <th>Altura</th>\n",
              "      <th>Peso</th>\n",
              "      <th>Ciudad</th>\n",
              "      <th>Género</th>\n",
              "      <th>Profesión</th>\n",
              "      <th>Salario</th>\n",
              "      <th>Años experiencia</th>\n",
              "    </tr>\n",
              "  </thead>\n",
              "  <tbody>\n",
              "    <tr>\n",
              "      <th>2</th>\n",
              "      <td>Pedro</td>\n",
              "      <td>40</td>\n",
              "      <td>1.80</td>\n",
              "      <td>80</td>\n",
              "      <td>Sevilla</td>\n",
              "      <td>Masculino</td>\n",
              "      <td>Abogado</td>\n",
              "      <td>4000</td>\n",
              "      <td>4</td>\n",
              "    </tr>\n",
              "    <tr>\n",
              "      <th>3</th>\n",
              "      <td>Ana</td>\n",
              "      <td>35</td>\n",
              "      <td>1.65</td>\n",
              "      <td>65</td>\n",
              "      <td>Valencia</td>\n",
              "      <td>Femenino</td>\n",
              "      <td>Ingeniero</td>\n",
              "      <td>3500</td>\n",
              "      <td>7</td>\n",
              "    </tr>\n",
              "    <tr>\n",
              "      <th>4</th>\n",
              "      <td>Matias</td>\n",
              "      <td>50</td>\n",
              "      <td>1.80</td>\n",
              "      <td>83</td>\n",
              "      <td>Madrid</td>\n",
              "      <td>Masculino</td>\n",
              "      <td>Abogado</td>\n",
              "      <td>4500</td>\n",
              "      <td>6</td>\n",
              "    </tr>\n",
              "    <tr>\n",
              "      <th>5</th>\n",
              "      <td>Jack</td>\n",
              "      <td>90</td>\n",
              "      <td>1.95</td>\n",
              "      <td>100</td>\n",
              "      <td>Sevilla</td>\n",
              "      <td>Masculino</td>\n",
              "      <td>Doctor</td>\n",
              "      <td>6000</td>\n",
              "      <td>9</td>\n",
              "    </tr>\n",
              "  </tbody>\n",
              "</table>\n",
              "</div>\n",
              "      <button class=\"colab-df-convert\" onclick=\"convertToInteractive('df-6ad0c95b-d050-4e88-9eba-758780b1cdd7')\"\n",
              "              title=\"Convert this dataframe to an interactive table.\"\n",
              "              style=\"display:none;\">\n",
              "        \n",
              "  <svg xmlns=\"http://www.w3.org/2000/svg\" height=\"24px\"viewBox=\"0 0 24 24\"\n",
              "       width=\"24px\">\n",
              "    <path d=\"M0 0h24v24H0V0z\" fill=\"none\"/>\n",
              "    <path d=\"M18.56 5.44l.94 2.06.94-2.06 2.06-.94-2.06-.94-.94-2.06-.94 2.06-2.06.94zm-11 1L8.5 8.5l.94-2.06 2.06-.94-2.06-.94L8.5 2.5l-.94 2.06-2.06.94zm10 10l.94 2.06.94-2.06 2.06-.94-2.06-.94-.94-2.06-.94 2.06-2.06.94z\"/><path d=\"M17.41 7.96l-1.37-1.37c-.4-.4-.92-.59-1.43-.59-.52 0-1.04.2-1.43.59L10.3 9.45l-7.72 7.72c-.78.78-.78 2.05 0 2.83L4 21.41c.39.39.9.59 1.41.59.51 0 1.02-.2 1.41-.59l7.78-7.78 2.81-2.81c.8-.78.8-2.07 0-2.86zM5.41 20L4 18.59l7.72-7.72 1.47 1.35L5.41 20z\"/>\n",
              "  </svg>\n",
              "      </button>\n",
              "      \n",
              "  <style>\n",
              "    .colab-df-container {\n",
              "      display:flex;\n",
              "      flex-wrap:wrap;\n",
              "      gap: 12px;\n",
              "    }\n",
              "\n",
              "    .colab-df-convert {\n",
              "      background-color: #E8F0FE;\n",
              "      border: none;\n",
              "      border-radius: 50%;\n",
              "      cursor: pointer;\n",
              "      display: none;\n",
              "      fill: #1967D2;\n",
              "      height: 32px;\n",
              "      padding: 0 0 0 0;\n",
              "      width: 32px;\n",
              "    }\n",
              "\n",
              "    .colab-df-convert:hover {\n",
              "      background-color: #E2EBFA;\n",
              "      box-shadow: 0px 1px 2px rgba(60, 64, 67, 0.3), 0px 1px 3px 1px rgba(60, 64, 67, 0.15);\n",
              "      fill: #174EA6;\n",
              "    }\n",
              "\n",
              "    [theme=dark] .colab-df-convert {\n",
              "      background-color: #3B4455;\n",
              "      fill: #D2E3FC;\n",
              "    }\n",
              "\n",
              "    [theme=dark] .colab-df-convert:hover {\n",
              "      background-color: #434B5C;\n",
              "      box-shadow: 0px 1px 3px 1px rgba(0, 0, 0, 0.15);\n",
              "      filter: drop-shadow(0px 1px 2px rgba(0, 0, 0, 0.3));\n",
              "      fill: #FFFFFF;\n",
              "    }\n",
              "  </style>\n",
              "\n",
              "      <script>\n",
              "        const buttonEl =\n",
              "          document.querySelector('#df-6ad0c95b-d050-4e88-9eba-758780b1cdd7 button.colab-df-convert');\n",
              "        buttonEl.style.display =\n",
              "          google.colab.kernel.accessAllowed ? 'block' : 'none';\n",
              "\n",
              "        async function convertToInteractive(key) {\n",
              "          const element = document.querySelector('#df-6ad0c95b-d050-4e88-9eba-758780b1cdd7');\n",
              "          const dataTable =\n",
              "            await google.colab.kernel.invokeFunction('convertToInteractive',\n",
              "                                                     [key], {});\n",
              "          if (!dataTable) return;\n",
              "\n",
              "          const docLinkHtml = 'Like what you see? Visit the ' +\n",
              "            '<a target=\"_blank\" href=https://colab.research.google.com/notebooks/data_table.ipynb>data table notebook</a>'\n",
              "            + ' to learn more about interactive tables.';\n",
              "          element.innerHTML = '';\n",
              "          dataTable['output_type'] = 'display_data';\n",
              "          await google.colab.output.renderOutput(dataTable, element);\n",
              "          const docLink = document.createElement('div');\n",
              "          docLink.innerHTML = docLinkHtml;\n",
              "          element.appendChild(docLink);\n",
              "        }\n",
              "      </script>\n",
              "    </div>\n",
              "  </div>\n",
              "  "
            ]
          },
          "metadata": {},
          "execution_count": 82
        }
      ]
    },
    {
      "cell_type": "markdown",
      "source": [
        "**Agrupación de datos**"
      ],
      "metadata": {
        "id": "yCHduUoLKBNF"
      }
    },
    {
      "cell_type": "code",
      "source": [
        "# Agrupar los datos por ciudad y contar el número de personas en cada ciudad\n",
        "df_grouped = df.groupby('Ciudad').size()\n",
        "print(df_grouped)"
      ],
      "metadata": {
        "id": "YCwq0nd_KBtW"
      },
      "execution_count": null,
      "outputs": []
    },
    {
      "cell_type": "code",
      "source": [
        "# Agrupar los datos por profesión y obtener el salario promedio de cada grupo\n",
        "#df_grouped = df.groupby('Profesión')['Salario'].mean()\n",
        "df_grouped = df.groupby('Género')['Edad'].mean()\n",
        "\n",
        "#print(df_grouped)\n",
        "\n",
        "### Agrupar los datos por género y obtener la media del salario y la suma de los años de experiencia por grupo\n",
        "df_grouped = df.groupby('Género').agg({'Salario': 'mean', 'Años experiencia': 'sum'})\n",
        "print(df_grouped)\n",
        "\n"
      ],
      "metadata": {
        "id": "Jn7q92EhKa16"
      },
      "execution_count": null,
      "outputs": []
    },
    {
      "cell_type": "code",
      "source": [
        "df"
      ],
      "metadata": {
        "id": "M1bFOirO8w7E"
      },
      "execution_count": null,
      "outputs": []
    },
    {
      "cell_type": "markdown",
      "source": [
        "**Pivot Tables**"
      ],
      "metadata": {
        "id": "OqOXGdC8PzVZ"
      }
    },
    {
      "cell_type": "code",
      "source": [
        "#crear una tabla básica\n",
        "pivot_table_basic = df.pivot_table(index='Profesión', columns='Año', values='Ventas') #por defecto trae el promedio\n",
        "pivot_table_basic"
      ],
      "metadata": {
        "id": "gT5iT09UP6xs",
        "colab": {
          "base_uri": "https://localhost:8080/",
          "height": 175
        },
        "outputId": "b45a5320-f66a-48c7-bf01-01037d4d9b8d"
      },
      "execution_count": null,
      "outputs": [
        {
          "output_type": "execute_result",
          "data": {
            "text/plain": [
              "Año          2022   2023\n",
              "Profesión               \n",
              "Abogado    1300.0  500.0\n",
              "Doctor        NaN  625.0\n",
              "Ingeniero   375.0    NaN"
            ],
            "text/html": [
              "\n",
              "  <div id=\"df-a9a51101-0825-42d1-945c-b328dc32966b\">\n",
              "    <div class=\"colab-df-container\">\n",
              "      <div>\n",
              "<style scoped>\n",
              "    .dataframe tbody tr th:only-of-type {\n",
              "        vertical-align: middle;\n",
              "    }\n",
              "\n",
              "    .dataframe tbody tr th {\n",
              "        vertical-align: top;\n",
              "    }\n",
              "\n",
              "    .dataframe thead th {\n",
              "        text-align: right;\n",
              "    }\n",
              "</style>\n",
              "<table border=\"1\" class=\"dataframe\">\n",
              "  <thead>\n",
              "    <tr style=\"text-align: right;\">\n",
              "      <th>Año</th>\n",
              "      <th>2022</th>\n",
              "      <th>2023</th>\n",
              "    </tr>\n",
              "    <tr>\n",
              "      <th>Profesión</th>\n",
              "      <th></th>\n",
              "      <th></th>\n",
              "    </tr>\n",
              "  </thead>\n",
              "  <tbody>\n",
              "    <tr>\n",
              "      <th>Abogado</th>\n",
              "      <td>1300.0</td>\n",
              "      <td>500.0</td>\n",
              "    </tr>\n",
              "    <tr>\n",
              "      <th>Doctor</th>\n",
              "      <td>NaN</td>\n",
              "      <td>625.0</td>\n",
              "    </tr>\n",
              "    <tr>\n",
              "      <th>Ingeniero</th>\n",
              "      <td>375.0</td>\n",
              "      <td>NaN</td>\n",
              "    </tr>\n",
              "  </tbody>\n",
              "</table>\n",
              "</div>\n",
              "      <button class=\"colab-df-convert\" onclick=\"convertToInteractive('df-a9a51101-0825-42d1-945c-b328dc32966b')\"\n",
              "              title=\"Convert this dataframe to an interactive table.\"\n",
              "              style=\"display:none;\">\n",
              "        \n",
              "  <svg xmlns=\"http://www.w3.org/2000/svg\" height=\"24px\"viewBox=\"0 0 24 24\"\n",
              "       width=\"24px\">\n",
              "    <path d=\"M0 0h24v24H0V0z\" fill=\"none\"/>\n",
              "    <path d=\"M18.56 5.44l.94 2.06.94-2.06 2.06-.94-2.06-.94-.94-2.06-.94 2.06-2.06.94zm-11 1L8.5 8.5l.94-2.06 2.06-.94-2.06-.94L8.5 2.5l-.94 2.06-2.06.94zm10 10l.94 2.06.94-2.06 2.06-.94-2.06-.94-.94-2.06-.94 2.06-2.06.94z\"/><path d=\"M17.41 7.96l-1.37-1.37c-.4-.4-.92-.59-1.43-.59-.52 0-1.04.2-1.43.59L10.3 9.45l-7.72 7.72c-.78.78-.78 2.05 0 2.83L4 21.41c.39.39.9.59 1.41.59.51 0 1.02-.2 1.41-.59l7.78-7.78 2.81-2.81c.8-.78.8-2.07 0-2.86zM5.41 20L4 18.59l7.72-7.72 1.47 1.35L5.41 20z\"/>\n",
              "  </svg>\n",
              "      </button>\n",
              "      \n",
              "  <style>\n",
              "    .colab-df-container {\n",
              "      display:flex;\n",
              "      flex-wrap:wrap;\n",
              "      gap: 12px;\n",
              "    }\n",
              "\n",
              "    .colab-df-convert {\n",
              "      background-color: #E8F0FE;\n",
              "      border: none;\n",
              "      border-radius: 50%;\n",
              "      cursor: pointer;\n",
              "      display: none;\n",
              "      fill: #1967D2;\n",
              "      height: 32px;\n",
              "      padding: 0 0 0 0;\n",
              "      width: 32px;\n",
              "    }\n",
              "\n",
              "    .colab-df-convert:hover {\n",
              "      background-color: #E2EBFA;\n",
              "      box-shadow: 0px 1px 2px rgba(60, 64, 67, 0.3), 0px 1px 3px 1px rgba(60, 64, 67, 0.15);\n",
              "      fill: #174EA6;\n",
              "    }\n",
              "\n",
              "    [theme=dark] .colab-df-convert {\n",
              "      background-color: #3B4455;\n",
              "      fill: #D2E3FC;\n",
              "    }\n",
              "\n",
              "    [theme=dark] .colab-df-convert:hover {\n",
              "      background-color: #434B5C;\n",
              "      box-shadow: 0px 1px 3px 1px rgba(0, 0, 0, 0.15);\n",
              "      filter: drop-shadow(0px 1px 2px rgba(0, 0, 0, 0.3));\n",
              "      fill: #FFFFFF;\n",
              "    }\n",
              "  </style>\n",
              "\n",
              "      <script>\n",
              "        const buttonEl =\n",
              "          document.querySelector('#df-a9a51101-0825-42d1-945c-b328dc32966b button.colab-df-convert');\n",
              "        buttonEl.style.display =\n",
              "          google.colab.kernel.accessAllowed ? 'block' : 'none';\n",
              "\n",
              "        async function convertToInteractive(key) {\n",
              "          const element = document.querySelector('#df-a9a51101-0825-42d1-945c-b328dc32966b');\n",
              "          const dataTable =\n",
              "            await google.colab.kernel.invokeFunction('convertToInteractive',\n",
              "                                                     [key], {});\n",
              "          if (!dataTable) return;\n",
              "\n",
              "          const docLinkHtml = 'Like what you see? Visit the ' +\n",
              "            '<a target=\"_blank\" href=https://colab.research.google.com/notebooks/data_table.ipynb>data table notebook</a>'\n",
              "            + ' to learn more about interactive tables.';\n",
              "          element.innerHTML = '';\n",
              "          dataTable['output_type'] = 'display_data';\n",
              "          await google.colab.output.renderOutput(dataTable, element);\n",
              "          const docLink = document.createElement('div');\n",
              "          docLink.innerHTML = docLinkHtml;\n",
              "          element.appendChild(docLink);\n",
              "        }\n",
              "      </script>\n",
              "    </div>\n",
              "  </div>\n",
              "  "
            ]
          },
          "metadata": {},
          "execution_count": 105
        }
      ]
    },
    {
      "cell_type": "code",
      "source": [
        "pivot_table_intermediate = df.pivot_table(index='Ciudad', columns='Año',\n",
        "                                          values='Ventas', aggfunc=[sum, len])\n",
        "#pivot_table_intermediate = df.pivot_table(index='Ciudad', columns='Año',\n",
        "#                                          values='Ventas', aggfunc={'Ventas': [sum, len],fill_value=0})\n",
        "print(pivot_table_intermediate)"
      ],
      "metadata": {
        "id": "tLMWtK8YRAnb",
        "colab": {
          "base_uri": "https://localhost:8080/"
        },
        "outputId": "828f8d94-4f38-457d-be6d-61fff848c4bf"
      },
      "execution_count": null,
      "outputs": [
        {
          "output_type": "stream",
          "name": "stdout",
          "text": [
            "              sum         len     \n",
            "Año          2022   2023 2022 2023\n",
            "Ciudad                            \n",
            "Barcelona     NaN  900.0  NaN  1.0\n",
            "Madrid     1400.0    NaN  2.0  NaN\n",
            "Sevilla       NaN  850.0  NaN  2.0\n",
            "Valencia    650.0    NaN  1.0  NaN\n"
          ]
        }
      ]
    },
    {
      "cell_type": "markdown",
      "source": [
        "**Visualización de datos**"
      ],
      "metadata": {
        "id": "QX2HCF2UA1tD"
      }
    },
    {
      "cell_type": "code",
      "source": [
        "import pandas as pd\n",
        "import matplotlib.pyplot as plt\n",
        "df = pd.read_csv('/content/pokemon_data.csv')\n",
        "df\n"
      ],
      "metadata": {
        "id": "mvZt1hCEA4mc"
      },
      "execution_count": null,
      "outputs": []
    },
    {
      "cell_type": "code",
      "source": [
        "df['Type 1'].unique()"
      ],
      "metadata": {
        "colab": {
          "base_uri": "https://localhost:8080/"
        },
        "id": "xawQBtATPEY4",
        "outputId": "d391f2f5-d8e3-4cf9-f29e-1dc026600092"
      },
      "execution_count": null,
      "outputs": [
        {
          "output_type": "execute_result",
          "data": {
            "text/plain": [
              "array(['Grass', 'Fire', 'Water', 'Bug', 'Normal', 'Poison', 'Electric',\n",
              "       'Ground', 'Fairy', 'Fighting', 'Psychic', 'Rock', 'Ghost', 'Ice',\n",
              "       'Dragon', 'Dark', 'Steel', 'Flying'], dtype=object)"
            ]
          },
          "metadata": {},
          "execution_count": 226
        }
      ]
    },
    {
      "cell_type": "code",
      "source": [
        "# Gráfico de barras\n",
        "#filtro = [\"Grass\",\"Fire\"]\n",
        "filtro1 = [\"Grass\"]\n",
        "filtro2 = [\"Poison\"]\n",
        "\n",
        "data = df.loc[ (df['Type 1'].isin(filtro1)) & (df['Type 2'].isin(filtro2)) & (df['Attack'] > 80)]\n",
        "data\n"
      ],
      "metadata": {
        "colab": {
          "base_uri": "https://localhost:8080/",
          "height": 206
        },
        "id": "yiCofJvYDtnn",
        "outputId": "40bcbd95-717b-4a92-a621-038a2824293f"
      },
      "execution_count": null,
      "outputs": [
        {
          "output_type": "execute_result",
          "data": {
            "text/plain": [
              "       #                   Name Type 1  Type 2   HP  Attack  Defense  Sp. Atk  \\\n",
              "2      3               Venusaur  Grass  Poison   80      82       83      100   \n",
              "3      3  VenusaurMega Venusaur  Grass  Poison   80     100      123      122   \n",
              "76    70             Weepinbell  Grass  Poison   65      90       50       85   \n",
              "77    71             Victreebel  Grass  Poison   80     105       65      100   \n",
              "652  591              Amoonguss  Grass  Poison  114      85       70       85   \n",
              "\n",
              "     Sp. Def  Speed  Generation  Legendary  \n",
              "2        100     80           1      False  \n",
              "3        120     80           1      False  \n",
              "76        45     55           1      False  \n",
              "77        70     70           1      False  \n",
              "652       80     30           5      False  "
            ],
            "text/html": [
              "\n",
              "  <div id=\"df-48669829-505b-4df2-b1a0-d09562804e56\">\n",
              "    <div class=\"colab-df-container\">\n",
              "      <div>\n",
              "<style scoped>\n",
              "    .dataframe tbody tr th:only-of-type {\n",
              "        vertical-align: middle;\n",
              "    }\n",
              "\n",
              "    .dataframe tbody tr th {\n",
              "        vertical-align: top;\n",
              "    }\n",
              "\n",
              "    .dataframe thead th {\n",
              "        text-align: right;\n",
              "    }\n",
              "</style>\n",
              "<table border=\"1\" class=\"dataframe\">\n",
              "  <thead>\n",
              "    <tr style=\"text-align: right;\">\n",
              "      <th></th>\n",
              "      <th>#</th>\n",
              "      <th>Name</th>\n",
              "      <th>Type 1</th>\n",
              "      <th>Type 2</th>\n",
              "      <th>HP</th>\n",
              "      <th>Attack</th>\n",
              "      <th>Defense</th>\n",
              "      <th>Sp. Atk</th>\n",
              "      <th>Sp. Def</th>\n",
              "      <th>Speed</th>\n",
              "      <th>Generation</th>\n",
              "      <th>Legendary</th>\n",
              "    </tr>\n",
              "  </thead>\n",
              "  <tbody>\n",
              "    <tr>\n",
              "      <th>2</th>\n",
              "      <td>3</td>\n",
              "      <td>Venusaur</td>\n",
              "      <td>Grass</td>\n",
              "      <td>Poison</td>\n",
              "      <td>80</td>\n",
              "      <td>82</td>\n",
              "      <td>83</td>\n",
              "      <td>100</td>\n",
              "      <td>100</td>\n",
              "      <td>80</td>\n",
              "      <td>1</td>\n",
              "      <td>False</td>\n",
              "    </tr>\n",
              "    <tr>\n",
              "      <th>3</th>\n",
              "      <td>3</td>\n",
              "      <td>VenusaurMega Venusaur</td>\n",
              "      <td>Grass</td>\n",
              "      <td>Poison</td>\n",
              "      <td>80</td>\n",
              "      <td>100</td>\n",
              "      <td>123</td>\n",
              "      <td>122</td>\n",
              "      <td>120</td>\n",
              "      <td>80</td>\n",
              "      <td>1</td>\n",
              "      <td>False</td>\n",
              "    </tr>\n",
              "    <tr>\n",
              "      <th>76</th>\n",
              "      <td>70</td>\n",
              "      <td>Weepinbell</td>\n",
              "      <td>Grass</td>\n",
              "      <td>Poison</td>\n",
              "      <td>65</td>\n",
              "      <td>90</td>\n",
              "      <td>50</td>\n",
              "      <td>85</td>\n",
              "      <td>45</td>\n",
              "      <td>55</td>\n",
              "      <td>1</td>\n",
              "      <td>False</td>\n",
              "    </tr>\n",
              "    <tr>\n",
              "      <th>77</th>\n",
              "      <td>71</td>\n",
              "      <td>Victreebel</td>\n",
              "      <td>Grass</td>\n",
              "      <td>Poison</td>\n",
              "      <td>80</td>\n",
              "      <td>105</td>\n",
              "      <td>65</td>\n",
              "      <td>100</td>\n",
              "      <td>70</td>\n",
              "      <td>70</td>\n",
              "      <td>1</td>\n",
              "      <td>False</td>\n",
              "    </tr>\n",
              "    <tr>\n",
              "      <th>652</th>\n",
              "      <td>591</td>\n",
              "      <td>Amoonguss</td>\n",
              "      <td>Grass</td>\n",
              "      <td>Poison</td>\n",
              "      <td>114</td>\n",
              "      <td>85</td>\n",
              "      <td>70</td>\n",
              "      <td>85</td>\n",
              "      <td>80</td>\n",
              "      <td>30</td>\n",
              "      <td>5</td>\n",
              "      <td>False</td>\n",
              "    </tr>\n",
              "  </tbody>\n",
              "</table>\n",
              "</div>\n",
              "      <button class=\"colab-df-convert\" onclick=\"convertToInteractive('df-48669829-505b-4df2-b1a0-d09562804e56')\"\n",
              "              title=\"Convert this dataframe to an interactive table.\"\n",
              "              style=\"display:none;\">\n",
              "        \n",
              "  <svg xmlns=\"http://www.w3.org/2000/svg\" height=\"24px\"viewBox=\"0 0 24 24\"\n",
              "       width=\"24px\">\n",
              "    <path d=\"M0 0h24v24H0V0z\" fill=\"none\"/>\n",
              "    <path d=\"M18.56 5.44l.94 2.06.94-2.06 2.06-.94-2.06-.94-.94-2.06-.94 2.06-2.06.94zm-11 1L8.5 8.5l.94-2.06 2.06-.94-2.06-.94L8.5 2.5l-.94 2.06-2.06.94zm10 10l.94 2.06.94-2.06 2.06-.94-2.06-.94-.94-2.06-.94 2.06-2.06.94z\"/><path d=\"M17.41 7.96l-1.37-1.37c-.4-.4-.92-.59-1.43-.59-.52 0-1.04.2-1.43.59L10.3 9.45l-7.72 7.72c-.78.78-.78 2.05 0 2.83L4 21.41c.39.39.9.59 1.41.59.51 0 1.02-.2 1.41-.59l7.78-7.78 2.81-2.81c.8-.78.8-2.07 0-2.86zM5.41 20L4 18.59l7.72-7.72 1.47 1.35L5.41 20z\"/>\n",
              "  </svg>\n",
              "      </button>\n",
              "      \n",
              "  <style>\n",
              "    .colab-df-container {\n",
              "      display:flex;\n",
              "      flex-wrap:wrap;\n",
              "      gap: 12px;\n",
              "    }\n",
              "\n",
              "    .colab-df-convert {\n",
              "      background-color: #E8F0FE;\n",
              "      border: none;\n",
              "      border-radius: 50%;\n",
              "      cursor: pointer;\n",
              "      display: none;\n",
              "      fill: #1967D2;\n",
              "      height: 32px;\n",
              "      padding: 0 0 0 0;\n",
              "      width: 32px;\n",
              "    }\n",
              "\n",
              "    .colab-df-convert:hover {\n",
              "      background-color: #E2EBFA;\n",
              "      box-shadow: 0px 1px 2px rgba(60, 64, 67, 0.3), 0px 1px 3px 1px rgba(60, 64, 67, 0.15);\n",
              "      fill: #174EA6;\n",
              "    }\n",
              "\n",
              "    [theme=dark] .colab-df-convert {\n",
              "      background-color: #3B4455;\n",
              "      fill: #D2E3FC;\n",
              "    }\n",
              "\n",
              "    [theme=dark] .colab-df-convert:hover {\n",
              "      background-color: #434B5C;\n",
              "      box-shadow: 0px 1px 3px 1px rgba(0, 0, 0, 0.15);\n",
              "      filter: drop-shadow(0px 1px 2px rgba(0, 0, 0, 0.3));\n",
              "      fill: #FFFFFF;\n",
              "    }\n",
              "  </style>\n",
              "\n",
              "      <script>\n",
              "        const buttonEl =\n",
              "          document.querySelector('#df-48669829-505b-4df2-b1a0-d09562804e56 button.colab-df-convert');\n",
              "        buttonEl.style.display =\n",
              "          google.colab.kernel.accessAllowed ? 'block' : 'none';\n",
              "\n",
              "        async function convertToInteractive(key) {\n",
              "          const element = document.querySelector('#df-48669829-505b-4df2-b1a0-d09562804e56');\n",
              "          const dataTable =\n",
              "            await google.colab.kernel.invokeFunction('convertToInteractive',\n",
              "                                                     [key], {});\n",
              "          if (!dataTable) return;\n",
              "\n",
              "          const docLinkHtml = 'Like what you see? Visit the ' +\n",
              "            '<a target=\"_blank\" href=https://colab.research.google.com/notebooks/data_table.ipynb>data table notebook</a>'\n",
              "            + ' to learn more about interactive tables.';\n",
              "          element.innerHTML = '';\n",
              "          dataTable['output_type'] = 'display_data';\n",
              "          await google.colab.output.renderOutput(dataTable, element);\n",
              "          const docLink = document.createElement('div');\n",
              "          docLink.innerHTML = docLinkHtml;\n",
              "          element.appendChild(docLink);\n",
              "        }\n",
              "      </script>\n",
              "    </div>\n",
              "  </div>\n",
              "  "
            ]
          },
          "metadata": {},
          "execution_count": 227
        }
      ]
    },
    {
      "cell_type": "code",
      "source": [
        "# Gráfico de barras\n",
        "plt.figure(figsize=(8, 6))\n",
        "plt.bar(data['Name'], data['Attack'])\n",
        "plt.title('Gráfico de Barras')\n",
        "plt.xlabel('x')\n",
        "plt.ylabel('y')\n",
        "plt.show()"
      ],
      "metadata": {
        "id": "_x5VKD2rOSLg"
      },
      "execution_count": null,
      "outputs": []
    },
    {
      "cell_type": "code",
      "source": [
        "# Gráfico de barras\n",
        "plt.figure(figsize=(14, 6))\n",
        "ax = data.plot(kind='bar', x='Name', y='Attack', figsize=(8, 6),color=\"gray\")\n",
        "#plt.bar(data['Name'], data['Attack'],color='gray')\n",
        "plt.title('Pokemones tipo Hierba con más Ataque')\n",
        "for p in ax.patches:\n",
        "    ax.annotate(str(p.get_height()), (p.get_x() + p.get_width() / 2., p.get_height()), ha='center', va='center', xytext=(0, 10), textcoords='offset points')\n",
        "\n",
        "for value in data['Attack']:\n",
        "  plt.axhline(y=value,color='r',linestyle='-.')\n",
        "\n",
        "plt.xlabel('x')\n",
        "plt.ylabel('y')\n",
        "plt.xticks(rotation='horizontal')\n",
        "plt.show()"
      ],
      "metadata": {
        "colab": {
          "base_uri": "https://localhost:8080/",
          "height": 582
        },
        "id": "jf5wR-uCFHkL",
        "outputId": "45eb59c7-f8d6-4a71-b94b-9efc75f8438e"
      },
      "execution_count": null,
      "outputs": [
        {
          "output_type": "display_data",
          "data": {
            "text/plain": [
              "<Figure size 1400x600 with 0 Axes>"
            ]
          },
          "metadata": {}
        },
        {
          "output_type": "display_data",
          "data": {
            "text/plain": [
              "<Figure size 800x600 with 1 Axes>"
            ],
            "image/png": "[encoded data removed]"
          },
          "metadata": {}
        }
      ]
    },
    {
      "cell_type": "code",
      "source": [
        "# Gráfico de líneas\n",
        "plt.figure(figsize=(8, 6))\n",
        "plt.plot(data['Name'], data['Attack'])\n",
        "plt.title('Gráfico de Líneas')\n",
        "plt.xlabel('x')\n",
        "plt.ylabel('y')\n",
        "plt.show()"
      ],
      "metadata": {
        "colab": {
          "base_uri": "https://localhost:8080/",
          "height": 564
        },
        "id": "sd2iJopFOguL",
        "outputId": "ba67e116-5dcb-4736-9b5b-2ad42b73f6ab"
      },
      "execution_count": null,
      "outputs": [
        {
          "output_type": "display_data",
          "data": {
            "text/plain": [
              "<Figure size 800x600 with 1 Axes>"
            ],
            "image/png": "[encoded data removed]"
          },
          "metadata": {}
        }
      ]
    },
    {
      "cell_type": "code",
      "source": [
        "# Gráfico circular\n",
        "circular = df['Type 1'].value_counts()\n",
        "circular\n",
        "\n",
        "#plt.title('Porcentaje de Pokemones')\n",
        "#ax = plt.gca()\n",
        "#ttl = ax.title\n",
        "#ttl.set_position([.5, 15.95])\n",
        "\n",
        "\n",
        "etiquetas = circular.index.tolist()\n",
        "#etiquetas\n",
        "plt.pie(circular, labels=etiquetas, autopct='%1.1f%%', startangle=160)\n",
        "#plt.figure(figsize=(8, 6))\n",
        "\n",
        "plt.axis('equal')\n",
        "\n",
        "\n",
        "plt.show"
      ],
      "metadata": {
        "colab": {
          "base_uri": "https://localhost:8080/",
          "height": 436
        },
        "id": "jYOlkvCWOoxT",
        "outputId": "5b4fcaf1-203f-4df9-ca8f-c0e3688b4f2d"
      },
      "execution_count": null,
      "outputs": [
        {
          "output_type": "execute_result",
          "data": {
            "text/plain": [
              "<function matplotlib.pyplot.show(close=None, block=None)>"
            ]
          },
          "metadata": {},
          "execution_count": 249
        },
        {
          "output_type": "display_data",
          "data": {
            "text/plain": [
              "<Figure size 640x480 with 1 Axes>"
            ],
            "image/png": "[encoded data removed]"
          },
          "metadata": {}
        }
      ]
    },
    {
      "cell_type": "markdown",
      "source": [
        "**Caso Aplicado**"
      ],
      "metadata": {
        "id": "Sdeva0cnsrXF"
      }
    },
    {
      "cell_type": "code",
      "source": [
        "#Leer columnas"
      ],
      "metadata": {
        "id": "GhTG4C-Ist_v"
      },
      "execution_count": null,
      "outputs": []
    },
    {
      "cell_type": "code",
      "source": [
        "#Leer filas"
      ],
      "metadata": {
        "id": "_nkK_6T9tDqt"
      },
      "execution_count": null,
      "outputs": []
    },
    {
      "cell_type": "code",
      "source": [],
      "metadata": {
        "id": "cIYkDXE-tXXG"
      },
      "execution_count": null,
      "outputs": []
    }
  ]
}